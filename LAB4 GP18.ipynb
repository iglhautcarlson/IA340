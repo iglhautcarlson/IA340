{
 "cells": [
  {
   "cell_type": "code",
   "execution_count": 1,
   "metadata": {},
   "outputs": [
    {
     "name": "stdout",
     "output_type": "stream",
     "text": [
      "Requirement already satisfied: psycopg2 in c:\\programdata\\anaconda3\\lib\\site-packages (2.8.3)\n"
     ]
    }
   ],
   "source": [
    "!pip install psycopg2\n",
    "import pandas\n",
    "import configparser\n",
    "import psycopg2"
   ]
  },
  {
   "cell_type": "code",
   "execution_count": 2,
   "metadata": {},
   "outputs": [
    {
     "data": {
      "text/plain": [
       "['config.ini']"
      ]
     },
     "execution_count": 2,
     "metadata": {},
     "output_type": "execute_result"
    }
   ],
   "source": [
    "config = configparser.ConfigParser ()\n",
    "config.read ('config.ini')"
   ]
  },
  {
   "cell_type": "code",
   "execution_count": 3,
   "metadata": {},
   "outputs": [],
   "source": [
    "host = config['myaws']['host']\n",
    "database = config['myaws']['database']\n",
    "user = config['myaws']['user']\n",
    "pwd = config['myaws']['pwd']"
   ]
  },
  {
   "cell_type": "code",
   "execution_count": 4,
   "metadata": {},
   "outputs": [],
   "source": [
    "conn = psycopg2.connect(host = host,\n",
    "                       user = user,\n",
    "                       password = pwd,\n",
    "                       dbname = database\n",
    "                       )"
   ]
  },
  {
   "cell_type": "code",
   "execution_count": 5,
   "metadata": {},
   "outputs": [],
   "source": [
    "cur = conn.cursor()"
   ]
  },
  {
   "cell_type": "markdown",
   "metadata": {},
   "source": [
    "# Question 1"
   ]
  },
  {
   "cell_type": "code",
   "execution_count": 6,
   "metadata": {},
   "outputs": [],
   "source": [
    "sql_statement = '''\n",
    "            select * from student_gp18_1\n",
    "                '''"
   ]
  },
  {
   "cell_type": "code",
   "execution_count": 7,
   "metadata": {},
   "outputs": [
    {
     "data": {
      "text/html": [
       "<div>\n",
       "<style scoped>\n",
       "    .dataframe tbody tr th:only-of-type {\n",
       "        vertical-align: middle;\n",
       "    }\n",
       "\n",
       "    .dataframe tbody tr th {\n",
       "        vertical-align: top;\n",
       "    }\n",
       "\n",
       "    .dataframe thead th {\n",
       "        text-align: right;\n",
       "    }\n",
       "</style>\n",
       "<table border=\"1\" class=\"dataframe\">\n",
       "  <thead>\n",
       "    <tr style=\"text-align: right;\">\n",
       "      <th></th>\n",
       "      <th>email</th>\n",
       "      <th>name</th>\n",
       "      <th>major</th>\n",
       "    </tr>\n",
       "  </thead>\n",
       "  <tbody>\n",
       "    <tr>\n",
       "      <th>0</th>\n",
       "      <td>lucasg@dukes.jmu.edu                          ...</td>\n",
       "      <td>George Lucas                                  ...</td>\n",
       "      <td>IA</td>\n",
       "    </tr>\n",
       "    <tr>\n",
       "      <th>1</th>\n",
       "      <td>rogerss@dukes.jmu.edu                         ...</td>\n",
       "      <td>Steve Rogers                                  ...</td>\n",
       "      <td>IA</td>\n",
       "    </tr>\n",
       "    <tr>\n",
       "      <th>2</th>\n",
       "      <td>rossb@dukes.jmu.edu                           ...</td>\n",
       "      <td>Bob Ross                                      ...</td>\n",
       "      <td>IA</td>\n",
       "    </tr>\n",
       "    <tr>\n",
       "      <th>3</th>\n",
       "      <td>halsta@dukes.jmu.edu                          ...</td>\n",
       "      <td>Alexa Halstead                                ...</td>\n",
       "      <td>IA</td>\n",
       "    </tr>\n",
       "    <tr>\n",
       "      <th>4</th>\n",
       "      <td>leewaj@dukes.jmu.edu                          ...</td>\n",
       "      <td>Jacob Leeway                                  ...</td>\n",
       "      <td>IA</td>\n",
       "    </tr>\n",
       "    <tr>\n",
       "      <th>5</th>\n",
       "      <td>legit_email                                   ...</td>\n",
       "      <td>bobby_hill                                    ...</td>\n",
       "      <td>IA</td>\n",
       "    </tr>\n",
       "    <tr>\n",
       "      <th>6</th>\n",
       "      <td>demo_email                                    ...</td>\n",
       "      <td>hank_hill                                     ...</td>\n",
       "      <td>IA</td>\n",
       "    </tr>\n",
       "    <tr>\n",
       "      <th>7</th>\n",
       "      <td>demo_2email                                   ...</td>\n",
       "      <td>dale_gribble                                  ...</td>\n",
       "      <td>BasketWeaving</td>\n",
       "    </tr>\n",
       "    <tr>\n",
       "      <th>8</th>\n",
       "      <td>some_email                                    ...</td>\n",
       "      <td>john_redcorn                                  ...</td>\n",
       "      <td>BasketWeaving</td>\n",
       "    </tr>\n",
       "    <tr>\n",
       "      <th>9</th>\n",
       "      <td>jonesk@dukes.jmu.edu                          ...</td>\n",
       "      <td>Kent Jones                                    ...</td>\n",
       "      <td>IA</td>\n",
       "    </tr>\n",
       "    <tr>\n",
       "      <th>10</th>\n",
       "      <td>jonesb@dukes.jmu.edu                          ...</td>\n",
       "      <td>Bob Jones                                     ...</td>\n",
       "      <td>IA</td>\n",
       "    </tr>\n",
       "  </tbody>\n",
       "</table>\n",
       "</div>"
      ],
      "text/plain": [
       "                                                email  \\\n",
       "0   lucasg@dukes.jmu.edu                          ...   \n",
       "1   rogerss@dukes.jmu.edu                         ...   \n",
       "2   rossb@dukes.jmu.edu                           ...   \n",
       "3   halsta@dukes.jmu.edu                          ...   \n",
       "4   leewaj@dukes.jmu.edu                          ...   \n",
       "5   legit_email                                   ...   \n",
       "6   demo_email                                    ...   \n",
       "7   demo_2email                                   ...   \n",
       "8   some_email                                    ...   \n",
       "9   jonesk@dukes.jmu.edu                          ...   \n",
       "10  jonesb@dukes.jmu.edu                          ...   \n",
       "\n",
       "                                                 name                 major  \n",
       "0   George Lucas                                  ...  IA                    \n",
       "1   Steve Rogers                                  ...  IA                    \n",
       "2   Bob Ross                                      ...  IA                    \n",
       "3   Alexa Halstead                                ...  IA                    \n",
       "4   Jacob Leeway                                  ...  IA                    \n",
       "5   bobby_hill                                    ...  IA                    \n",
       "6   hank_hill                                     ...  IA                    \n",
       "7   dale_gribble                                  ...  BasketWeaving         \n",
       "8   john_redcorn                                  ...  BasketWeaving         \n",
       "9   Kent Jones                                    ...  IA                    \n",
       "10  Bob Jones                                     ...  IA                    "
      ]
     },
     "execution_count": 7,
     "metadata": {},
     "output_type": "execute_result"
    }
   ],
   "source": [
    "df = pandas.read_sql_query(sql_statement, conn)\n",
    "df[:]"
   ]
  },
  {
   "cell_type": "markdown",
   "metadata": {},
   "source": [
    "# Question 2"
   ]
  },
  {
   "cell_type": "code",
   "execution_count": 8,
   "metadata": {},
   "outputs": [],
   "source": [
    "sql_statement = '''\n",
    "            select cname, count(semail)\n",
    "            from enrolllist_gp18_1\n",
    "            group by cname\n",
    "            order by count(semail) desc\n",
    "            limit 1\n",
    "                '''"
   ]
  },
  {
   "cell_type": "code",
   "execution_count": 9,
   "metadata": {},
   "outputs": [
    {
     "data": {
      "text/html": [
       "<div>\n",
       "<style scoped>\n",
       "    .dataframe tbody tr th:only-of-type {\n",
       "        vertical-align: middle;\n",
       "    }\n",
       "\n",
       "    .dataframe tbody tr th {\n",
       "        vertical-align: top;\n",
       "    }\n",
       "\n",
       "    .dataframe thead th {\n",
       "        text-align: right;\n",
       "    }\n",
       "</style>\n",
       "<table border=\"1\" class=\"dataframe\">\n",
       "  <thead>\n",
       "    <tr style=\"text-align: right;\">\n",
       "      <th></th>\n",
       "      <th>cname</th>\n",
       "      <th>count</th>\n",
       "    </tr>\n",
       "  </thead>\n",
       "  <tbody>\n",
       "    <tr>\n",
       "      <th>0</th>\n",
       "      <td>IA150                                         ...</td>\n",
       "      <td>3</td>\n",
       "    </tr>\n",
       "  </tbody>\n",
       "</table>\n",
       "</div>"
      ],
      "text/plain": [
       "                                               cname  count\n",
       "0  IA150                                         ...      3"
      ]
     },
     "execution_count": 9,
     "metadata": {},
     "output_type": "execute_result"
    }
   ],
   "source": [
    "df = pandas.read_sql_query(sql_statement, conn)\n",
    "df[:]"
   ]
  },
  {
   "cell_type": "markdown",
   "metadata": {},
   "source": [
    "# Question 3"
   ]
  },
  {
   "cell_type": "code",
   "execution_count": 10,
   "metadata": {},
   "outputs": [],
   "source": [
    "sql_statement = '''\n",
    "            select\n",
    "            teacher_gp18_1.name as tname,\n",
    "            course_gp18_1.name as cname\n",
    "            from teacher_gp18_1\n",
    "            inner join course_gp18_1\n",
    "            on teacher_gp18_1.email = course_gp18_1.temail\n",
    "                '''"
   ]
  },
  {
   "cell_type": "code",
   "execution_count": 11,
   "metadata": {},
   "outputs": [
    {
     "data": {
      "text/html": [
       "<div>\n",
       "<style scoped>\n",
       "    .dataframe tbody tr th:only-of-type {\n",
       "        vertical-align: middle;\n",
       "    }\n",
       "\n",
       "    .dataframe tbody tr th {\n",
       "        vertical-align: top;\n",
       "    }\n",
       "\n",
       "    .dataframe thead th {\n",
       "        text-align: right;\n",
       "    }\n",
       "</style>\n",
       "<table border=\"1\" class=\"dataframe\">\n",
       "  <thead>\n",
       "    <tr style=\"text-align: right;\">\n",
       "      <th></th>\n",
       "      <th>tname</th>\n",
       "      <th>cname</th>\n",
       "    </tr>\n",
       "  </thead>\n",
       "  <tbody>\n",
       "    <tr>\n",
       "      <th>0</th>\n",
       "      <td>Noel Hendrickson                              ...</td>\n",
       "      <td>IA300                                         ...</td>\n",
       "    </tr>\n",
       "    <tr>\n",
       "      <th>1</th>\n",
       "      <td>Bob Kolvoord                                  ...</td>\n",
       "      <td>IA150                                         ...</td>\n",
       "    </tr>\n",
       "    <tr>\n",
       "      <th>2</th>\n",
       "      <td>David McGraw                                  ...</td>\n",
       "      <td>IA250                                         ...</td>\n",
       "    </tr>\n",
       "    <tr>\n",
       "      <th>3</th>\n",
       "      <td>Kathleen Moore                                ...</td>\n",
       "      <td>IA350                                         ...</td>\n",
       "    </tr>\n",
       "    <tr>\n",
       "      <th>4</th>\n",
       "      <td>Herald Golf                                   ...</td>\n",
       "      <td>IA450                                         ...</td>\n",
       "    </tr>\n",
       "    <tr>\n",
       "      <th>5</th>\n",
       "      <td>Ricky Bobby                                   ...</td>\n",
       "      <td>IA460                                         ...</td>\n",
       "    </tr>\n",
       "    <tr>\n",
       "      <th>6</th>\n",
       "      <td>Rob Kang                                      ...</td>\n",
       "      <td>IA240                                         ...</td>\n",
       "    </tr>\n",
       "    <tr>\n",
       "      <th>7</th>\n",
       "      <td>Rob Kang                                      ...</td>\n",
       "      <td>IA400                                         ...</td>\n",
       "    </tr>\n",
       "  </tbody>\n",
       "</table>\n",
       "</div>"
      ],
      "text/plain": [
       "                                               tname  \\\n",
       "0  Noel Hendrickson                              ...   \n",
       "1  Bob Kolvoord                                  ...   \n",
       "2  David McGraw                                  ...   \n",
       "3  Kathleen Moore                                ...   \n",
       "4  Herald Golf                                   ...   \n",
       "5  Ricky Bobby                                   ...   \n",
       "6  Rob Kang                                      ...   \n",
       "7  Rob Kang                                      ...   \n",
       "\n",
       "                                               cname  \n",
       "0  IA300                                         ...  \n",
       "1  IA150                                         ...  \n",
       "2  IA250                                         ...  \n",
       "3  IA350                                         ...  \n",
       "4  IA450                                         ...  \n",
       "5  IA460                                         ...  \n",
       "6  IA240                                         ...  \n",
       "7  IA400                                         ...  "
      ]
     },
     "execution_count": 11,
     "metadata": {},
     "output_type": "execute_result"
    }
   ],
   "source": [
    "df = pandas.read_sql_query(sql_statement, conn)\n",
    "df[:]"
   ]
  },
  {
   "cell_type": "markdown",
   "metadata": {},
   "source": [
    "# Question 4"
   ]
  },
  {
   "cell_type": "code",
   "execution_count": 12,
   "metadata": {},
   "outputs": [],
   "source": [
    "sql_statement = '''\n",
    "            select\n",
    "            teacher_gp18_1.name as tname,\n",
    "            count(course_gp18_1.name) as course_name\n",
    "            from teacher_gp18_1\n",
    "            inner join course_gp18_1\n",
    "            on teacher_gp18_1.email = course_gp18_1.temail\n",
    "            group by teacher_gp18_1.name\n",
    "            order by count(course_gp18_1) desc\n",
    "            limit 1\n",
    "                '''"
   ]
  },
  {
   "cell_type": "code",
   "execution_count": 13,
   "metadata": {},
   "outputs": [
    {
     "data": {
      "text/html": [
       "<div>\n",
       "<style scoped>\n",
       "    .dataframe tbody tr th:only-of-type {\n",
       "        vertical-align: middle;\n",
       "    }\n",
       "\n",
       "    .dataframe tbody tr th {\n",
       "        vertical-align: top;\n",
       "    }\n",
       "\n",
       "    .dataframe thead th {\n",
       "        text-align: right;\n",
       "    }\n",
       "</style>\n",
       "<table border=\"1\" class=\"dataframe\">\n",
       "  <thead>\n",
       "    <tr style=\"text-align: right;\">\n",
       "      <th></th>\n",
       "      <th>tname</th>\n",
       "      <th>course_name</th>\n",
       "    </tr>\n",
       "  </thead>\n",
       "  <tbody>\n",
       "    <tr>\n",
       "      <th>0</th>\n",
       "      <td>Rob Kang                                      ...</td>\n",
       "      <td>2</td>\n",
       "    </tr>\n",
       "  </tbody>\n",
       "</table>\n",
       "</div>"
      ],
      "text/plain": [
       "                                               tname  course_name\n",
       "0  Rob Kang                                      ...            2"
      ]
     },
     "execution_count": 13,
     "metadata": {},
     "output_type": "execute_result"
    }
   ],
   "source": [
    "df = pandas.read_sql_query(sql_statement, conn)\n",
    "df[:]"
   ]
  },
  {
   "cell_type": "markdown",
   "metadata": {},
   "source": [
    "# Question 5"
   ]
  },
  {
   "cell_type": "code",
   "execution_count": 14,
   "metadata": {},
   "outputs": [
    {
     "name": "stdout",
     "output_type": "stream",
     "text": [
      "\n",
      "                    insert into teacher_gp18_1 (email,name,office)\n",
      "                    values ('new_email1','new_name1','new_office1')\n",
      "                        \n"
     ]
    }
   ],
   "source": [
    "sql_insert_statement= '''\n",
    "                    insert into teacher_gp18_1 (email,name,office)\n",
    "                    values ('{}','{}','{}')\n",
    "                        '''.format('new_email1','new_name1','new_office1')\n",
    "print(sql_insert_statement)"
   ]
  },
  {
   "cell_type": "code",
   "execution_count": 16,
   "metadata": {},
   "outputs": [],
   "source": [
    "#cur.execute(sql_insert_statement)"
   ]
  },
  {
   "cell_type": "code",
   "execution_count": 17,
   "metadata": {},
   "outputs": [],
   "source": [
    "conn.commit()"
   ]
  },
  {
   "cell_type": "code",
   "execution_count": 18,
   "metadata": {},
   "outputs": [
    {
     "data": {
      "text/html": [
       "<div>\n",
       "<style scoped>\n",
       "    .dataframe tbody tr th:only-of-type {\n",
       "        vertical-align: middle;\n",
       "    }\n",
       "\n",
       "    .dataframe tbody tr th {\n",
       "        vertical-align: top;\n",
       "    }\n",
       "\n",
       "    .dataframe thead th {\n",
       "        text-align: right;\n",
       "    }\n",
       "</style>\n",
       "<table border=\"1\" class=\"dataframe\">\n",
       "  <thead>\n",
       "    <tr style=\"text-align: right;\">\n",
       "      <th></th>\n",
       "      <th>email</th>\n",
       "      <th>name</th>\n",
       "      <th>office</th>\n",
       "    </tr>\n",
       "  </thead>\n",
       "  <tbody>\n",
       "    <tr>\n",
       "      <th>0</th>\n",
       "      <td>hendrixn@dukes.jmu.edu                        ...</td>\n",
       "      <td>Noel Hendrickson                              ...</td>\n",
       "      <td>ISAT317                                       ...</td>\n",
       "    </tr>\n",
       "    <tr>\n",
       "      <th>1</th>\n",
       "      <td>kolvoora@dukes.jmu.edu                        ...</td>\n",
       "      <td>Bob Kolvoord                                  ...</td>\n",
       "      <td>ISAT370                                       ...</td>\n",
       "    </tr>\n",
       "    <tr>\n",
       "      <th>2</th>\n",
       "      <td>mcgrawdk@dukes.jmu.edu                        ...</td>\n",
       "      <td>David McGraw                                  ...</td>\n",
       "      <td>ISAT352                                       ...</td>\n",
       "    </tr>\n",
       "    <tr>\n",
       "      <th>3</th>\n",
       "      <td>moore8ka@dukes.jmu.edu                        ...</td>\n",
       "      <td>Kathleen Moore                                ...</td>\n",
       "      <td>ISAT116                                       ...</td>\n",
       "    </tr>\n",
       "    <tr>\n",
       "      <th>4</th>\n",
       "      <td>hearldg@dukes.jmu.edu                         ...</td>\n",
       "      <td>Herald Golf                                   ...</td>\n",
       "      <td>ISAT405                                       ...</td>\n",
       "    </tr>\n",
       "    <tr>\n",
       "      <th>5</th>\n",
       "      <td>straightg@dukes.jmu.edu                       ...</td>\n",
       "      <td>George Straight                               ...</td>\n",
       "      <td>ISAT450                                       ...</td>\n",
       "    </tr>\n",
       "    <tr>\n",
       "      <th>6</th>\n",
       "      <td>bobbyr@dukes.jmu.edu                          ...</td>\n",
       "      <td>Ricky Bobby                                   ...</td>\n",
       "      <td>ISAT356                                       ...</td>\n",
       "    </tr>\n",
       "    <tr>\n",
       "      <th>7</th>\n",
       "      <td>kangr@dukes.jmu.edu                           ...</td>\n",
       "      <td>Rob Kang                                      ...</td>\n",
       "      <td>ISAT347                                       ...</td>\n",
       "    </tr>\n",
       "    <tr>\n",
       "      <th>8</th>\n",
       "      <td>new_email1                                    ...</td>\n",
       "      <td>new_name1                                     ...</td>\n",
       "      <td>new_office1                                   ...</td>\n",
       "    </tr>\n",
       "  </tbody>\n",
       "</table>\n",
       "</div>"
      ],
      "text/plain": [
       "                                               email  \\\n",
       "0  hendrixn@dukes.jmu.edu                        ...   \n",
       "1  kolvoora@dukes.jmu.edu                        ...   \n",
       "2  mcgrawdk@dukes.jmu.edu                        ...   \n",
       "3  moore8ka@dukes.jmu.edu                        ...   \n",
       "4  hearldg@dukes.jmu.edu                         ...   \n",
       "5  straightg@dukes.jmu.edu                       ...   \n",
       "6  bobbyr@dukes.jmu.edu                          ...   \n",
       "7  kangr@dukes.jmu.edu                           ...   \n",
       "8  new_email1                                    ...   \n",
       "\n",
       "                                                name  \\\n",
       "0  Noel Hendrickson                              ...   \n",
       "1  Bob Kolvoord                                  ...   \n",
       "2  David McGraw                                  ...   \n",
       "3  Kathleen Moore                                ...   \n",
       "4  Herald Golf                                   ...   \n",
       "5  George Straight                               ...   \n",
       "6  Ricky Bobby                                   ...   \n",
       "7  Rob Kang                                      ...   \n",
       "8  new_name1                                     ...   \n",
       "\n",
       "                                              office  \n",
       "0  ISAT317                                       ...  \n",
       "1  ISAT370                                       ...  \n",
       "2  ISAT352                                       ...  \n",
       "3  ISAT116                                       ...  \n",
       "4  ISAT405                                       ...  \n",
       "5  ISAT450                                       ...  \n",
       "6  ISAT356                                       ...  \n",
       "7  ISAT347                                       ...  \n",
       "8  new_office1                                   ...  "
      ]
     },
     "execution_count": 18,
     "metadata": {},
     "output_type": "execute_result"
    }
   ],
   "source": [
    "df = pandas.read_sql_query('''select * from teacher_gp18_1''', conn)\n",
    "df[:]"
   ]
  },
  {
   "cell_type": "markdown",
   "metadata": {},
   "source": [
    "# Question 6"
   ]
  },
  {
   "cell_type": "code",
   "execution_count": 19,
   "metadata": {},
   "outputs": [
    {
     "name": "stdout",
     "output_type": "stream",
     "text": [
      "\n",
      "                        update course_gp18_1\n",
      "                        set temail = 'new_email1'\n",
      "                        where temail = 'hearldg@dukes.jmu.edu'\n",
      "                        \n"
     ]
    }
   ],
   "source": [
    "sql_insert_statement= '''\n",
    "                        update course_gp18_1\n",
    "                        set temail = 'new_email1'\n",
    "                        where temail = 'hearldg@dukes.jmu.edu'\n",
    "                        '''\n",
    "print(sql_insert_statement)"
   ]
  },
  {
   "cell_type": "code",
   "execution_count": 20,
   "metadata": {},
   "outputs": [
    {
     "name": "stdout",
     "output_type": "stream",
     "text": [
      "\n",
      "                        delete from teacher_gp18_1\n",
      "                        where email = 'hearldg@dukes.jmu.edu'\n",
      "                        \n"
     ]
    }
   ],
   "source": [
    "sql_insert_statement2= '''\n",
    "                        delete from teacher_gp18_1\n",
    "                        where email = 'hearldg@dukes.jmu.edu'\n",
    "                        '''\n",
    "print(sql_insert_statement2) "
   ]
  },
  {
   "cell_type": "code",
   "execution_count": 21,
   "metadata": {},
   "outputs": [],
   "source": [
    "cur.execute(sql_insert_statement)\n",
    "conn.commit()"
   ]
  },
  {
   "cell_type": "code",
   "execution_count": 22,
   "metadata": {},
   "outputs": [],
   "source": [
    "cur.execute(sql_insert_statement2)\n",
    "conn.commit()"
   ]
  },
  {
   "cell_type": "code",
   "execution_count": 23,
   "metadata": {},
   "outputs": [
    {
     "data": {
      "text/html": [
       "<div>\n",
       "<style scoped>\n",
       "    .dataframe tbody tr th:only-of-type {\n",
       "        vertical-align: middle;\n",
       "    }\n",
       "\n",
       "    .dataframe tbody tr th {\n",
       "        vertical-align: top;\n",
       "    }\n",
       "\n",
       "    .dataframe thead th {\n",
       "        text-align: right;\n",
       "    }\n",
       "</style>\n",
       "<table border=\"1\" class=\"dataframe\">\n",
       "  <thead>\n",
       "    <tr style=\"text-align: right;\">\n",
       "      <th></th>\n",
       "      <th>name</th>\n",
       "      <th>room</th>\n",
       "      <th>temail</th>\n",
       "    </tr>\n",
       "  </thead>\n",
       "  <tbody>\n",
       "    <tr>\n",
       "      <th>0</th>\n",
       "      <td>IA300                                         ...</td>\n",
       "      <td>ISAT120                                       ...</td>\n",
       "      <td>hendrixn@dukes.jmu.edu                        ...</td>\n",
       "    </tr>\n",
       "    <tr>\n",
       "      <th>1</th>\n",
       "      <td>IA150                                         ...</td>\n",
       "      <td>ISAT121                                       ...</td>\n",
       "      <td>kolvoora@dukes.jmu.edu                        ...</td>\n",
       "    </tr>\n",
       "    <tr>\n",
       "      <th>2</th>\n",
       "      <td>IA250                                         ...</td>\n",
       "      <td>ISAT304                                       ...</td>\n",
       "      <td>mcgrawdk@dukes.jmu.edu                        ...</td>\n",
       "    </tr>\n",
       "    <tr>\n",
       "      <th>3</th>\n",
       "      <td>IA350                                         ...</td>\n",
       "      <td>ISAT205                                       ...</td>\n",
       "      <td>moore8ka@dukes.jmu.edu                        ...</td>\n",
       "    </tr>\n",
       "    <tr>\n",
       "      <th>4</th>\n",
       "      <td>IA460                                         ...</td>\n",
       "      <td>ISAT430                                       ...</td>\n",
       "      <td>bobbyr@dukes.jmu.edu                          ...</td>\n",
       "    </tr>\n",
       "    <tr>\n",
       "      <th>5</th>\n",
       "      <td>IA240                                         ...</td>\n",
       "      <td>ISAT310                                       ...</td>\n",
       "      <td>kangr@dukes.jmu.edu                           ...</td>\n",
       "    </tr>\n",
       "    <tr>\n",
       "      <th>6</th>\n",
       "      <td>IA400                                         ...</td>\n",
       "      <td>ISAT 123                                      ...</td>\n",
       "      <td>kangr@dukes.jmu.edu                           ...</td>\n",
       "    </tr>\n",
       "    <tr>\n",
       "      <th>7</th>\n",
       "      <td>IA450                                         ...</td>\n",
       "      <td>ISAT340                                       ...</td>\n",
       "      <td>new_email1                                    ...</td>\n",
       "    </tr>\n",
       "  </tbody>\n",
       "</table>\n",
       "</div>"
      ],
      "text/plain": [
       "                                                name  \\\n",
       "0  IA300                                         ...   \n",
       "1  IA150                                         ...   \n",
       "2  IA250                                         ...   \n",
       "3  IA350                                         ...   \n",
       "4  IA460                                         ...   \n",
       "5  IA240                                         ...   \n",
       "6  IA400                                         ...   \n",
       "7  IA450                                         ...   \n",
       "\n",
       "                                                room  \\\n",
       "0  ISAT120                                       ...   \n",
       "1  ISAT121                                       ...   \n",
       "2  ISAT304                                       ...   \n",
       "3  ISAT205                                       ...   \n",
       "4  ISAT430                                       ...   \n",
       "5  ISAT310                                       ...   \n",
       "6  ISAT 123                                      ...   \n",
       "7  ISAT340                                       ...   \n",
       "\n",
       "                                              temail  \n",
       "0  hendrixn@dukes.jmu.edu                        ...  \n",
       "1  kolvoora@dukes.jmu.edu                        ...  \n",
       "2  mcgrawdk@dukes.jmu.edu                        ...  \n",
       "3  moore8ka@dukes.jmu.edu                        ...  \n",
       "4  bobbyr@dukes.jmu.edu                          ...  \n",
       "5  kangr@dukes.jmu.edu                           ...  \n",
       "6  kangr@dukes.jmu.edu                           ...  \n",
       "7  new_email1                                    ...  "
      ]
     },
     "execution_count": 23,
     "metadata": {},
     "output_type": "execute_result"
    }
   ],
   "source": [
    "df = pandas.read_sql_query('''select * from course_gp18_1''', conn)\n",
    "df[:]"
   ]
  },
  {
   "cell_type": "code",
   "execution_count": 24,
   "metadata": {},
   "outputs": [
    {
     "data": {
      "text/html": [
       "<div>\n",
       "<style scoped>\n",
       "    .dataframe tbody tr th:only-of-type {\n",
       "        vertical-align: middle;\n",
       "    }\n",
       "\n",
       "    .dataframe tbody tr th {\n",
       "        vertical-align: top;\n",
       "    }\n",
       "\n",
       "    .dataframe thead th {\n",
       "        text-align: right;\n",
       "    }\n",
       "</style>\n",
       "<table border=\"1\" class=\"dataframe\">\n",
       "  <thead>\n",
       "    <tr style=\"text-align: right;\">\n",
       "      <th></th>\n",
       "      <th>email</th>\n",
       "      <th>name</th>\n",
       "      <th>office</th>\n",
       "    </tr>\n",
       "  </thead>\n",
       "  <tbody>\n",
       "    <tr>\n",
       "      <th>0</th>\n",
       "      <td>hendrixn@dukes.jmu.edu                        ...</td>\n",
       "      <td>Noel Hendrickson                              ...</td>\n",
       "      <td>ISAT317                                       ...</td>\n",
       "    </tr>\n",
       "    <tr>\n",
       "      <th>1</th>\n",
       "      <td>kolvoora@dukes.jmu.edu                        ...</td>\n",
       "      <td>Bob Kolvoord                                  ...</td>\n",
       "      <td>ISAT370                                       ...</td>\n",
       "    </tr>\n",
       "    <tr>\n",
       "      <th>2</th>\n",
       "      <td>mcgrawdk@dukes.jmu.edu                        ...</td>\n",
       "      <td>David McGraw                                  ...</td>\n",
       "      <td>ISAT352                                       ...</td>\n",
       "    </tr>\n",
       "    <tr>\n",
       "      <th>3</th>\n",
       "      <td>moore8ka@dukes.jmu.edu                        ...</td>\n",
       "      <td>Kathleen Moore                                ...</td>\n",
       "      <td>ISAT116                                       ...</td>\n",
       "    </tr>\n",
       "    <tr>\n",
       "      <th>4</th>\n",
       "      <td>straightg@dukes.jmu.edu                       ...</td>\n",
       "      <td>George Straight                               ...</td>\n",
       "      <td>ISAT450                                       ...</td>\n",
       "    </tr>\n",
       "    <tr>\n",
       "      <th>5</th>\n",
       "      <td>bobbyr@dukes.jmu.edu                          ...</td>\n",
       "      <td>Ricky Bobby                                   ...</td>\n",
       "      <td>ISAT356                                       ...</td>\n",
       "    </tr>\n",
       "    <tr>\n",
       "      <th>6</th>\n",
       "      <td>kangr@dukes.jmu.edu                           ...</td>\n",
       "      <td>Rob Kang                                      ...</td>\n",
       "      <td>ISAT347                                       ...</td>\n",
       "    </tr>\n",
       "    <tr>\n",
       "      <th>7</th>\n",
       "      <td>new_email1                                    ...</td>\n",
       "      <td>new_name1                                     ...</td>\n",
       "      <td>new_office1                                   ...</td>\n",
       "    </tr>\n",
       "  </tbody>\n",
       "</table>\n",
       "</div>"
      ],
      "text/plain": [
       "                                               email  \\\n",
       "0  hendrixn@dukes.jmu.edu                        ...   \n",
       "1  kolvoora@dukes.jmu.edu                        ...   \n",
       "2  mcgrawdk@dukes.jmu.edu                        ...   \n",
       "3  moore8ka@dukes.jmu.edu                        ...   \n",
       "4  straightg@dukes.jmu.edu                       ...   \n",
       "5  bobbyr@dukes.jmu.edu                          ...   \n",
       "6  kangr@dukes.jmu.edu                           ...   \n",
       "7  new_email1                                    ...   \n",
       "\n",
       "                                                name  \\\n",
       "0  Noel Hendrickson                              ...   \n",
       "1  Bob Kolvoord                                  ...   \n",
       "2  David McGraw                                  ...   \n",
       "3  Kathleen Moore                                ...   \n",
       "4  George Straight                               ...   \n",
       "5  Ricky Bobby                                   ...   \n",
       "6  Rob Kang                                      ...   \n",
       "7  new_name1                                     ...   \n",
       "\n",
       "                                              office  \n",
       "0  ISAT317                                       ...  \n",
       "1  ISAT370                                       ...  \n",
       "2  ISAT352                                       ...  \n",
       "3  ISAT116                                       ...  \n",
       "4  ISAT450                                       ...  \n",
       "5  ISAT356                                       ...  \n",
       "6  ISAT347                                       ...  \n",
       "7  new_office1                                   ...  "
      ]
     },
     "execution_count": 24,
     "metadata": {},
     "output_type": "execute_result"
    }
   ],
   "source": [
    "df = pandas.read_sql_query('''select * from teacher_gp18_1''', conn)\n",
    "df[:]"
   ]
  },
  {
   "cell_type": "code",
   "execution_count": 26,
   "metadata": {},
   "outputs": [],
   "source": [
    "cur.close()\n",
    "conn.close()"
   ]
  },
  {
   "cell_type": "code",
   "execution_count": null,
   "metadata": {},
   "outputs": [],
   "source": []
  }
 ],
 "metadata": {
  "kernelspec": {
   "display_name": "Python 3",
   "language": "python",
   "name": "python3"
  },
  "language_info": {
   "codemirror_mode": {
    "name": "ipython",
    "version": 3
   },
   "file_extension": ".py",
   "mimetype": "text/x-python",
   "name": "python",
   "nbconvert_exporter": "python",
   "pygments_lexer": "ipython3",
   "version": "3.6.5"
  }
 },
 "nbformat": 4,
 "nbformat_minor": 2
}
